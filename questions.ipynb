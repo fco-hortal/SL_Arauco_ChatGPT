{
 "cells": [
  {
   "cell_type": "markdown",
   "metadata": {},
   "source": [
    "### Chatbot"
   ]
  },
  {
   "cell_type": "code",
   "execution_count": 1,
   "metadata": {},
   "outputs": [],
   "source": [
    "from langchain_experimental.agents.agent_toolkits import create_pandas_dataframe_agent as pd_agent\n",
    "from langchain.llms import OpenAI\n",
    "from langchain.agents.agent_types import AgentType\n",
    "from langchain.chat_models import ChatOpenAI\n",
    "from qvd import qvd_reader\n",
    "import pandas as pd\n",
    "import openai\n",
    "from dotenv import load_dotenv\n",
    "import os\n",
    "import time\n",
    "\n",
    "# OpenAI Api Key\n",
    "load_dotenv()\n",
    "api_key = os.getenv(\"OPENAI_API_KEY\")\n",
    "openai.api_key = api_key\n",
    "\n",
    "\n",
    "def convert_dtypes(df):\n",
    "    \"\"\"\n",
    "    Conversión numérica\n",
    "    \"\"\"\n",
    "    cols = df.columns\n",
    "    for c in cols:\n",
    "        try:\n",
    "            df[c] = pd.to_numeric(df[c])\n",
    "        except:\n",
    "            pass\n",
    "\n",
    "\n",
    "# Import the QVD file\n",
    "pv = qvd_reader.read('data/Precio_venta.qvd')\n",
    "vp = qvd_reader.read('data/Volumen_Prod.qvd')\n",
    "convert_dtypes(pv)\n",
    "convert_dtypes(vp)\n",
    "\n",
    "agent = pd_agent(\n",
    "    OpenAI(temperature=0),\n",
    "    [pv, vp],\n",
    "    verbose=True\n",
    ")\n",
    "\n",
    "\n",
    "def consulta(input_usuario):\n",
    "    \"\"\"\n",
    "    Función para realizar consultas a la base de datos\n",
    "    \"\"\"\n",
    "    tiempo_inicial = time.time()\n",
    "    output = agent.run(input_usuario)\n",
    "    tiempo_final = time.time()\n",
    "    print(f\"Tiempo de ejecución: {tiempo_final - tiempo_inicial}\")\n",
    "    return (output)"
   ]
  },
  {
   "cell_type": "markdown",
   "metadata": {},
   "source": [
    "### Data"
   ]
  },
  {
   "cell_type": "code",
   "execution_count": 2,
   "metadata": {},
   "outputs": [
    {
     "data": {
      "text/html": [
       "<div>\n",
       "<style scoped>\n",
       "    .dataframe tbody tr th:only-of-type {\n",
       "        vertical-align: middle;\n",
       "    }\n",
       "\n",
       "    .dataframe tbody tr th {\n",
       "        vertical-align: top;\n",
       "    }\n",
       "\n",
       "    .dataframe thead th {\n",
       "        text-align: right;\n",
       "    }\n",
       "</style>\n",
       "<table border=\"1\" class=\"dataframe\">\n",
       "  <thead>\n",
       "    <tr style=\"text-align: right;\">\n",
       "      <th></th>\n",
       "      <th>Planta</th>\n",
       "      <th>Pais</th>\n",
       "      <th>Cliente</th>\n",
       "      <th>Periodo</th>\n",
       "      <th>Producto</th>\n",
       "      <th>Ventas(ADT)</th>\n",
       "      <th>Ingresos</th>\n",
       "      <th>Devoluciones</th>\n",
       "    </tr>\n",
       "  </thead>\n",
       "  <tbody>\n",
       "    <tr>\n",
       "      <th>0</th>\n",
       "      <td>Nueva Aldea</td>\n",
       "      <td>China</td>\n",
       "      <td>ZHEJIANG WELBON PULP</td>\n",
       "      <td>2021005</td>\n",
       "      <td>BKP</td>\n",
       "      <td>508.820</td>\n",
       "      <td>-447634.40</td>\n",
       "      <td>4476.34</td>\n",
       "    </tr>\n",
       "    <tr>\n",
       "      <th>1</th>\n",
       "      <td>Arauco</td>\n",
       "      <td>China</td>\n",
       "      <td>ZHEJIANG WELBON PULP</td>\n",
       "      <td>2021006</td>\n",
       "      <td>BKP</td>\n",
       "      <td>3730.484</td>\n",
       "      <td>-3446141.26</td>\n",
       "      <td>34461.41</td>\n",
       "    </tr>\n",
       "    <tr>\n",
       "      <th>2</th>\n",
       "      <td>Nueva Aldea</td>\n",
       "      <td>China</td>\n",
       "      <td>ZHEJIANG WELBON PULP</td>\n",
       "      <td>2021006</td>\n",
       "      <td>BKP</td>\n",
       "      <td>4960.603</td>\n",
       "      <td>-4621408.67</td>\n",
       "      <td>46214.08</td>\n",
       "    </tr>\n",
       "  </tbody>\n",
       "</table>\n",
       "</div>"
      ],
      "text/plain": [
       "        Planta   Pais               Cliente  Periodo Producto  Ventas(ADT)  \\\n",
       "0  Nueva Aldea  China  ZHEJIANG WELBON PULP  2021005      BKP      508.820   \n",
       "1       Arauco  China  ZHEJIANG WELBON PULP  2021006      BKP     3730.484   \n",
       "2  Nueva Aldea  China  ZHEJIANG WELBON PULP  2021006      BKP     4960.603   \n",
       "\n",
       "     Ingresos  Devoluciones  \n",
       "0  -447634.40       4476.34  \n",
       "1 -3446141.26      34461.41  \n",
       "2 -4621408.67      46214.08  "
      ]
     },
     "execution_count": 2,
     "metadata": {},
     "output_type": "execute_result"
    }
   ],
   "source": [
    "# Precio de Venta\n",
    "pv"
   ]
  },
  {
   "cell_type": "code",
   "execution_count": 3,
   "metadata": {},
   "outputs": [
    {
     "data": {
      "text/html": [
       "<div>\n",
       "<style scoped>\n",
       "    .dataframe tbody tr th:only-of-type {\n",
       "        vertical-align: middle;\n",
       "    }\n",
       "\n",
       "    .dataframe tbody tr th {\n",
       "        vertical-align: top;\n",
       "    }\n",
       "\n",
       "    .dataframe thead th {\n",
       "        text-align: right;\n",
       "    }\n",
       "</style>\n",
       "<table border=\"1\" class=\"dataframe\">\n",
       "  <thead>\n",
       "    <tr style=\"text-align: right;\">\n",
       "      <th></th>\n",
       "      <th>Pais</th>\n",
       "      <th>Periodo</th>\n",
       "      <th>Planta</th>\n",
       "      <th>Producto</th>\n",
       "      <th>Volumen</th>\n",
       "    </tr>\n",
       "  </thead>\n",
       "  <tbody>\n",
       "    <tr>\n",
       "      <th>0</th>\n",
       "      <td>Chile</td>\n",
       "      <td>2021006</td>\n",
       "      <td>Valdivia</td>\n",
       "      <td>DP</td>\n",
       "      <td>39404.30</td>\n",
       "    </tr>\n",
       "    <tr>\n",
       "      <th>1</th>\n",
       "      <td>Chile</td>\n",
       "      <td>2021005</td>\n",
       "      <td>Valdivia</td>\n",
       "      <td>DP</td>\n",
       "      <td>41335.38</td>\n",
       "    </tr>\n",
       "  </tbody>\n",
       "</table>\n",
       "</div>"
      ],
      "text/plain": [
       "    Pais  Periodo    Planta Producto   Volumen\n",
       "0  Chile  2021006  Valdivia       DP  39404.30\n",
       "1  Chile  2021005  Valdivia       DP  41335.38"
      ]
     },
     "execution_count": 3,
     "metadata": {},
     "output_type": "execute_result"
    }
   ],
   "source": [
    "# Volumen de Producto\n",
    "vp"
   ]
  },
  {
   "cell_type": "markdown",
   "metadata": {},
   "source": [
    "### Consultas"
   ]
  },
  {
   "cell_type": "code",
   "execution_count": 4,
   "metadata": {},
   "outputs": [
    {
     "name": "stdout",
     "output_type": "stream",
     "text": [
      "\n",
      "\n",
      "\u001b[1m> Entering new AgentExecutor chain...\u001b[0m\n"
     ]
    },
    {
     "name": "stderr",
     "output_type": "stream",
     "text": [
      "Retrying langchain.llms.openai.completion_with_retry.<locals>._completion_with_retry in 4.0 seconds as it raised RateLimitError: Rate limit reached for text-davinci-003 in organization org-Ty1JrsbxVpQuUSSF7R2n22BG on requests per min (RPM): Limit 3, Used 3, Requested 1. Please try again in 20s. Visit https://platform.openai.com/account/rate-limits to learn more. You can increase your rate limit by adding a payment method to your account at https://platform.openai.com/account/billing..\n",
      "Retrying langchain.llms.openai.completion_with_retry.<locals>._completion_with_retry in 4.0 seconds as it raised RateLimitError: Rate limit reached for text-davinci-003 in organization org-Ty1JrsbxVpQuUSSF7R2n22BG on requests per min (RPM): Limit 3, Used 3, Requested 1. Please try again in 20s. Visit https://platform.openai.com/account/rate-limits to learn more. You can increase your rate limit by adding a payment method to your account at https://platform.openai.com/account/billing..\n"
     ]
    },
    {
     "name": "stdout",
     "output_type": "stream",
     "text": [
      "\u001b[32;1m\u001b[1;3mThought: I need to find the production volume in ADT for the product DP in June 2021 at the Valdivia Plant.\n",
      "Action: python_repl_ast\n",
      "Action Input: df1[(df1['Producto'] == 'DP') & (df1['Planta'] == 'Valdivia') & (df1['Periodo'] == 2021006)]['Ventas(ADT)'].sum()\u001b[0m\n",
      "Observation: \u001b[36;1m\u001b[1;3m0.0\u001b[0m\n",
      "Thought:"
     ]
    },
    {
     "name": "stderr",
     "output_type": "stream",
     "text": [
      "Retrying langchain.llms.openai.completion_with_retry.<locals>._completion_with_retry in 4.0 seconds as it raised RateLimitError: Rate limit reached for text-davinci-003 in organization org-Ty1JrsbxVpQuUSSF7R2n22BG on requests per min (RPM): Limit 3, Used 3, Requested 1. Please try again in 20s. Visit https://platform.openai.com/account/rate-limits to learn more. You can increase your rate limit by adding a payment method to your account at https://platform.openai.com/account/billing..\n",
      "Retrying langchain.llms.openai.completion_with_retry.<locals>._completion_with_retry in 4.0 seconds as it raised RateLimitError: Rate limit reached for text-davinci-003 in organization org-Ty1JrsbxVpQuUSSF7R2n22BG on requests per min (RPM): Limit 3, Used 3, Requested 1. Please try again in 20s. Visit https://platform.openai.com/account/rate-limits to learn more. You can increase your rate limit by adding a payment method to your account at https://platform.openai.com/account/billing..\n",
      "Retrying langchain.llms.openai.completion_with_retry.<locals>._completion_with_retry in 4.0 seconds as it raised RateLimitError: Rate limit reached for text-davinci-003 in organization org-Ty1JrsbxVpQuUSSF7R2n22BG on requests per min (RPM): Limit 3, Used 3, Requested 1. Please try again in 20s. Visit https://platform.openai.com/account/rate-limits to learn more. You can increase your rate limit by adding a payment method to your account at https://platform.openai.com/account/billing..\n",
      "Retrying langchain.llms.openai.completion_with_retry.<locals>._completion_with_retry in 8.0 seconds as it raised RateLimitError: Rate limit reached for text-davinci-003 in organization org-Ty1JrsbxVpQuUSSF7R2n22BG on requests per min (RPM): Limit 3, Used 3, Requested 1. Please try again in 20s. Visit https://platform.openai.com/account/rate-limits to learn more. You can increase your rate limit by adding a payment method to your account at https://platform.openai.com/account/billing..\n",
      "Retrying langchain.llms.openai.completion_with_retry.<locals>._completion_with_retry in 4.0 seconds as it raised RateLimitError: Rate limit reached for text-davinci-003 in organization org-Ty1JrsbxVpQuUSSF7R2n22BG on requests per min (RPM): Limit 3, Used 3, Requested 1. Please try again in 20s. Visit https://platform.openai.com/account/rate-limits to learn more. You can increase your rate limit by adding a payment method to your account at https://platform.openai.com/account/billing..\n"
     ]
    },
    {
     "name": "stdout",
     "output_type": "stream",
     "text": [
      "\u001b[32;1m\u001b[1;3m I need to find the production volume in ADT for the product DP in June 2021 at the Valdivia Plant in the other dataframe.\n",
      "Action: python_repl_ast\n",
      "Action Input: df2[(df2['Producto'] == 'DP') & (df2['Planta'] == 'Valdivia') & (df2['Periodo'] == 2021006)]['Volumen'].sum()\u001b[0m\n",
      "Observation: \u001b[36;1m\u001b[1;3m39404.3\u001b[0m\n",
      "Thought:"
     ]
    },
    {
     "name": "stderr",
     "output_type": "stream",
     "text": [
      "Retrying langchain.llms.openai.completion_with_retry.<locals>._completion_with_retry in 4.0 seconds as it raised RateLimitError: Rate limit reached for text-davinci-003 in organization org-Ty1JrsbxVpQuUSSF7R2n22BG on requests per min (RPM): Limit 3, Used 3, Requested 1. Please try again in 20s. Visit https://platform.openai.com/account/rate-limits to learn more. You can increase your rate limit by adding a payment method to your account at https://platform.openai.com/account/billing..\n",
      "Retrying langchain.llms.openai.completion_with_retry.<locals>._completion_with_retry in 4.0 seconds as it raised RateLimitError: Rate limit reached for text-davinci-003 in organization org-Ty1JrsbxVpQuUSSF7R2n22BG on requests per min (RPM): Limit 3, Used 3, Requested 1. Please try again in 20s. Visit https://platform.openai.com/account/rate-limits to learn more. You can increase your rate limit by adding a payment method to your account at https://platform.openai.com/account/billing..\n"
     ]
    },
    {
     "name": "stdout",
     "output_type": "stream",
     "text": [
      "\u001b[32;1m\u001b[1;3m I now know the final answer\n",
      "Final Answer: El volumen de producción en ADT para el producto DP, en el mes de junio del 2021, en la Planta Valdivia fue de 39404.3 ADT.\u001b[0m\n",
      "\n",
      "\u001b[1m> Finished chain.\u001b[0m\n",
      "Tiempo de ejecución: 47.610663414001465\n"
     ]
    },
    {
     "data": {
      "text/plain": [
       "'El volumen de producción en ADT para el producto DP, en el mes de junio del 2021, en la Planta Valdivia fue de 39404.3 ADT.'"
      ]
     },
     "execution_count": 4,
     "metadata": {},
     "output_type": "execute_result"
    }
   ],
   "source": [
    "consulta(\n",
    "  \"¿Cuál fue el volumen de producción en ADT, para el producto DP, en el mes de junio del 2021, en la Planta Valdivia?\"\n",
    ")"
   ]
  },
  {
   "cell_type": "code",
   "execution_count": 5,
   "metadata": {},
   "outputs": [
    {
     "name": "stdout",
     "output_type": "stream",
     "text": [
      "\n",
      "\n",
      "\u001b[1m> Entering new AgentExecutor chain...\u001b[0m\n"
     ]
    },
    {
     "name": "stderr",
     "output_type": "stream",
     "text": [
      "Retrying langchain.llms.openai.completion_with_retry.<locals>._completion_with_retry in 4.0 seconds as it raised RateLimitError: Rate limit reached for text-davinci-003 in organization org-Ty1JrsbxVpQuUSSF7R2n22BG on requests per min (RPM): Limit 3, Used 3, Requested 1. Please try again in 20s. Visit https://platform.openai.com/account/rate-limits to learn more. You can increase your rate limit by adding a payment method to your account at https://platform.openai.com/account/billing..\n",
      "Retrying langchain.llms.openai.completion_with_retry.<locals>._completion_with_retry in 4.0 seconds as it raised RateLimitError: Rate limit reached for text-davinci-003 in organization org-Ty1JrsbxVpQuUSSF7R2n22BG on requests per min (RPM): Limit 3, Used 3, Requested 1. Please try again in 20s. Visit https://platform.openai.com/account/rate-limits to learn more. You can increase your rate limit by adding a payment method to your account at https://platform.openai.com/account/billing..\n",
      "Retrying langchain.llms.openai.completion_with_retry.<locals>._completion_with_retry in 4.0 seconds as it raised RateLimitError: Rate limit reached for text-davinci-003 in organization org-Ty1JrsbxVpQuUSSF7R2n22BG on requests per min (RPM): Limit 3, Used 3, Requested 1. Please try again in 20s. Visit https://platform.openai.com/account/rate-limits to learn more. You can increase your rate limit by adding a payment method to your account at https://platform.openai.com/account/billing..\n",
      "Retrying langchain.llms.openai.completion_with_retry.<locals>._completion_with_retry in 8.0 seconds as it raised RateLimitError: Rate limit reached for text-davinci-003 in organization org-Ty1JrsbxVpQuUSSF7R2n22BG on requests per min (RPM): Limit 3, Used 3, Requested 1. Please try again in 20s. Visit https://platform.openai.com/account/rate-limits to learn more. You can increase your rate limit by adding a payment method to your account at https://platform.openai.com/account/billing..\n"
     ]
    },
    {
     "name": "stdout",
     "output_type": "stream",
     "text": [
      "\u001b[32;1m\u001b[1;3mThought: I need to find the sales price for the product BKP in China in May 2021 for the client WELBON.\n",
      "Action: python_repl_ast\n",
      "Action Input: df1[(df1['Pais'] == 'China') & (df1['Cliente'] == 'ZHEJIANG WELBON PULP') & (df1['Producto'] == 'BKP') & (df1['Periodo'] == 2021005)]['Ventas(ADT)'].iloc[0]\u001b[0m\n",
      "Observation: \u001b[36;1m\u001b[1;3m508.82\u001b[0m\n",
      "Thought:"
     ]
    },
    {
     "name": "stderr",
     "output_type": "stream",
     "text": [
      "Retrying langchain.llms.openai.completion_with_retry.<locals>._completion_with_retry in 4.0 seconds as it raised RateLimitError: Rate limit reached for text-davinci-003 in organization org-Ty1JrsbxVpQuUSSF7R2n22BG on requests per min (RPM): Limit 3, Used 3, Requested 1. Please try again in 20s. Visit https://platform.openai.com/account/rate-limits to learn more. You can increase your rate limit by adding a payment method to your account at https://platform.openai.com/account/billing..\n",
      "Retrying langchain.llms.openai.completion_with_retry.<locals>._completion_with_retry in 4.0 seconds as it raised RateLimitError: Rate limit reached for text-davinci-003 in organization org-Ty1JrsbxVpQuUSSF7R2n22BG on requests per min (RPM): Limit 3, Used 3, Requested 1. Please try again in 20s. Visit https://platform.openai.com/account/rate-limits to learn more. You can increase your rate limit by adding a payment method to your account at https://platform.openai.com/account/billing..\n",
      "Retrying langchain.llms.openai.completion_with_retry.<locals>._completion_with_retry in 4.0 seconds as it raised RateLimitError: Rate limit reached for text-davinci-003 in organization org-Ty1JrsbxVpQuUSSF7R2n22BG on requests per min (RPM): Limit 3, Used 3, Requested 1. Please try again in 20s. Visit https://platform.openai.com/account/rate-limits to learn more. You can increase your rate limit by adding a payment method to your account at https://platform.openai.com/account/billing..\n"
     ]
    },
    {
     "name": "stdout",
     "output_type": "stream",
     "text": [
      "\u001b[32;1m\u001b[1;3m I need to find the volume of BKP in China in May 2021 for the client WELBON.\n",
      "Action: python_repl_ast\n",
      "Action Input: df2[(df2['Pais'] == 'China') & (df2['Producto'] == 'BKP') & (df2['Periodo'] == 2021005)]['Volumen'].iloc[0]\u001b[0m\n",
      "Observation: \u001b[36;1m\u001b[1;3mIndexError: single positional indexer is out-of-bounds\u001b[0m\n",
      "Thought:"
     ]
    },
    {
     "name": "stderr",
     "output_type": "stream",
     "text": [
      "Retrying langchain.llms.openai.completion_with_retry.<locals>._completion_with_retry in 4.0 seconds as it raised RateLimitError: Rate limit reached for text-davinci-003 in organization org-Ty1JrsbxVpQuUSSF7R2n22BG on requests per min (RPM): Limit 3, Used 3, Requested 1. Please try again in 20s. Visit https://platform.openai.com/account/rate-limits to learn more. You can increase your rate limit by adding a payment method to your account at https://platform.openai.com/account/billing..\n",
      "Retrying langchain.llms.openai.completion_with_retry.<locals>._completion_with_retry in 4.0 seconds as it raised RateLimitError: Rate limit reached for text-davinci-003 in organization org-Ty1JrsbxVpQuUSSF7R2n22BG on requests per min (RPM): Limit 3, Used 3, Requested 1. Please try again in 20s. Visit https://platform.openai.com/account/rate-limits to learn more. You can increase your rate limit by adding a payment method to your account at https://platform.openai.com/account/billing..\n",
      "Retrying langchain.llms.openai.completion_with_retry.<locals>._completion_with_retry in 4.0 seconds as it raised RateLimitError: Rate limit reached for text-davinci-003 in organization org-Ty1JrsbxVpQuUSSF7R2n22BG on requests per min (RPM): Limit 3, Used 3, Requested 1. Please try again in 20s. Visit https://platform.openai.com/account/rate-limits to learn more. You can increase your rate limit by adding a payment method to your account at https://platform.openai.com/account/billing..\n",
      "Retrying langchain.llms.openai.completion_with_retry.<locals>._completion_with_retry in 8.0 seconds as it raised RateLimitError: Rate limit reached for text-davinci-003 in organization org-Ty1JrsbxVpQuUSSF7R2n22BG on requests per min (RPM): Limit 3, Used 3, Requested 1. Please try again in 20s. Visit https://platform.openai.com/account/rate-limits to learn more. You can increase your rate limit by adding a payment method to your account at https://platform.openai.com/account/billing..\n"
     ]
    },
    {
     "name": "stdout",
     "output_type": "stream",
     "text": [
      "\u001b[32;1m\u001b[1;3m There is no data for the volume of BKP in China in May 2021 for the client WELBON, so I need to use the sales price from df1.\n",
      "Final Answer: El precio de venta a China en Mayo 2021, para el producto BKP, para el cliente WELBON fue 508.82.\u001b[0m\n",
      "\n",
      "\u001b[1m> Finished chain.\u001b[0m\n",
      "Tiempo de ejecución: 59.84855270385742\n"
     ]
    },
    {
     "data": {
      "text/plain": [
       "'El precio de venta a China en Mayo 2021, para el producto BKP, para el cliente WELBON fue 508.82.'"
      ]
     },
     "execution_count": 5,
     "metadata": {},
     "output_type": "execute_result"
    }
   ],
   "source": [
    "consulta (\n",
    "  \"¿Cuál fue el Precio de venta a China en Mayo 2021, para el producto BKP, para el cliente WELBON?\"\n",
    ")"
   ]
  },
  {
   "cell_type": "code",
   "execution_count": 6,
   "metadata": {},
   "outputs": [
    {
     "name": "stdout",
     "output_type": "stream",
     "text": [
      "\n",
      "\n",
      "\u001b[1m> Entering new AgentExecutor chain...\u001b[0m\n"
     ]
    },
    {
     "name": "stderr",
     "output_type": "stream",
     "text": [
      "Retrying langchain.llms.openai.completion_with_retry.<locals>._completion_with_retry in 4.0 seconds as it raised RateLimitError: Rate limit reached for text-davinci-003 in organization org-Ty1JrsbxVpQuUSSF7R2n22BG on requests per min (RPM): Limit 3, Used 3, Requested 1. Please try again in 20s. Visit https://platform.openai.com/account/rate-limits to learn more. You can increase your rate limit by adding a payment method to your account at https://platform.openai.com/account/billing..\n",
      "Retrying langchain.llms.openai.completion_with_retry.<locals>._completion_with_retry in 4.0 seconds as it raised RateLimitError: Rate limit reached for text-davinci-003 in organization org-Ty1JrsbxVpQuUSSF7R2n22BG on requests per min (RPM): Limit 3, Used 3, Requested 1. Please try again in 20s. Visit https://platform.openai.com/account/rate-limits to learn more. You can increase your rate limit by adding a payment method to your account at https://platform.openai.com/account/billing..\n",
      "Retrying langchain.llms.openai.completion_with_retry.<locals>._completion_with_retry in 4.0 seconds as it raised RateLimitError: Rate limit reached for text-davinci-003 in organization org-Ty1JrsbxVpQuUSSF7R2n22BG on requests per min (RPM): Limit 3, Used 3, Requested 1. Please try again in 20s. Visit https://platform.openai.com/account/rate-limits to learn more. You can increase your rate limit by adding a payment method to your account at https://platform.openai.com/account/billing..\n",
      "Retrying langchain.llms.openai.completion_with_retry.<locals>._completion_with_retry in 8.0 seconds as it raised RateLimitError: Rate limit reached for text-davinci-003 in organization org-Ty1JrsbxVpQuUSSF7R2n22BG on requests per min (RPM): Limit 3, Used 3, Requested 1. Please try again in 20s. Visit https://platform.openai.com/account/rate-limits to learn more. You can increase your rate limit by adding a payment method to your account at https://platform.openai.com/account/billing..\n",
      "Retrying langchain.llms.openai.completion_with_retry.<locals>._completion_with_retry in 4.0 seconds as it raised RateLimitError: Rate limit reached for text-davinci-003 in organization org-Ty1JrsbxVpQuUSSF7R2n22BG on requests per min (RPM): Limit 3, Used 3, Requested 1. Please try again in 20s. Visit https://platform.openai.com/account/rate-limits to learn more. You can increase your rate limit by adding a payment method to your account at https://platform.openai.com/account/billing..\n"
     ]
    },
    {
     "name": "stdout",
     "output_type": "stream",
     "text": [
      "\u001b[32;1m\u001b[1;3mThought: I need to find the total volume of DP shipped from Valdivia in May 2021\n",
      "Action: python_repl_ast\n",
      "Action Input: df1[(df1['Planta'] == 'Valdivia') & (df1['Producto'] == 'DP') & (df1['Periodo'] == 2021005)]['Ventas(ADT)'].sum() + df2[(df2['Planta'] == 'Valdivia') & (df2['Producto'] == 'DP') & (df2['Periodo'] == 2021006)]['Volumen'].sum()\u001b[0m\n",
      "Observation: \u001b[36;1m\u001b[1;3m39404.3\u001b[0m\n",
      "Thought:"
     ]
    },
    {
     "name": "stderr",
     "output_type": "stream",
     "text": [
      "Retrying langchain.llms.openai.completion_with_retry.<locals>._completion_with_retry in 4.0 seconds as it raised RateLimitError: Rate limit reached for text-davinci-003 in organization org-Ty1JrsbxVpQuUSSF7R2n22BG on requests per min (RPM): Limit 3, Used 3, Requested 1. Please try again in 20s. Visit https://platform.openai.com/account/rate-limits to learn more. You can increase your rate limit by adding a payment method to your account at https://platform.openai.com/account/billing..\n",
      "Retrying langchain.llms.openai.completion_with_retry.<locals>._completion_with_retry in 4.0 seconds as it raised RateLimitError: Rate limit reached for text-davinci-003 in organization org-Ty1JrsbxVpQuUSSF7R2n22BG on requests per min (RPM): Limit 3, Used 3, Requested 1. Please try again in 20s. Visit https://platform.openai.com/account/rate-limits to learn more. You can increase your rate limit by adding a payment method to your account at https://platform.openai.com/account/billing..\n"
     ]
    },
    {
     "name": "stdout",
     "output_type": "stream",
     "text": [
      "\u001b[32;1m\u001b[1;3m I now know the final answer\n",
      "Final Answer: El volumen de embarque al puerto de Valdivia en Mayo 2021, para el producto DP fue 39404.3.\u001b[0m\n",
      "\n",
      "\u001b[1m> Finished chain.\u001b[0m\n",
      "Tiempo de ejecución: 37.431339502334595\n"
     ]
    },
    {
     "data": {
      "text/plain": [
       "'El volumen de embarque al puerto de Valdivia en Mayo 2021, para el producto DP fue 39404.3.'"
      ]
     },
     "execution_count": 6,
     "metadata": {},
     "output_type": "execute_result"
    }
   ],
   "source": [
    "consulta(\n",
    "  \"¿Cuál fue el volumen de embarque al puerto de Valdivia en Mayo 2021, para el producto DP?\"\n",
    ")"
   ]
  }
 ],
 "metadata": {
  "kernelspec": {
   "display_name": "Python 3",
   "language": "python",
   "name": "python3"
  },
  "language_info": {
   "codemirror_mode": {
    "name": "ipython",
    "version": 3
   },
   "file_extension": ".py",
   "mimetype": "text/x-python",
   "name": "python",
   "nbconvert_exporter": "python",
   "pygments_lexer": "ipython3",
   "version": "3.10.10"
  }
 },
 "nbformat": 4,
 "nbformat_minor": 2
}
