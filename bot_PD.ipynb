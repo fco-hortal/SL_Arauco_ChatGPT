{
 "cells": [
  {
   "cell_type": "code",
   "execution_count": 1,
   "metadata": {},
   "outputs": [],
   "source": [
    "from qvd import qvd_reader\n",
    "from pandasai import SmartDataframe\n",
    "from pandasai.llm import OpenAI\n",
    "import pandas as p\n",
    "import openai"
   ]
  },
  {
   "cell_type": "code",
   "execution_count": 2,
   "metadata": {},
   "outputs": [],
   "source": [
    "from dotenv import load_dotenv\n",
    "import os\n",
    "# OpenAI Api Key\n",
    "load_dotenv()\n",
    "api_key = os.getenv(\"OPENAI_API_KEY\")"
   ]
  },
  {
   "cell_type": "code",
   "execution_count": 3,
   "metadata": {},
   "outputs": [],
   "source": [
    "def convert_dtypes(df, exclude_columns=[]):\n",
    "    cols = df.columns\n",
    "    for c in cols:\n",
    "        if c not in exclude_columns:\n",
    "            try:\n",
    "                df[c] = pd.to_numeric(df[c])\n",
    "            except:\n",
    "                pass"
   ]
  },
  {
   "cell_type": "code",
   "execution_count": 4,
   "metadata": {},
   "outputs": [],
   "source": [
    "# Import the QVD file\n",
    "pv = qvd_reader.read('data/Precio_venta.qvd')\n",
    "vp = qvd_reader.read('data/Volumen_Prod.qvd')\n",
    "convert_dtypes(pv)\n",
    "convert_dtypes(vp)"
   ]
  },
  {
   "cell_type": "code",
   "execution_count": 5,
   "metadata": {},
   "outputs": [],
   "source": [
    "# LLM de OpenAI\n",
    "llm = OpenAI(\n",
    "  api_token=api_key,\n",
    "  engine=\"gpt-3.5-turbo\",\n",
    "  temperature=0)\n",
    "# Pandas AI\n",
    "bot = SmartDataframe(pv, config={\"llm\": llm})"
   ]
  },
  {
   "cell_type": "code",
   "execution_count": 6,
   "metadata": {},
   "outputs": [
    {
     "data": {
      "text/plain": [
       "\"Unfortunately, I was not able to answer your question, because of the following error:\\n\\ntime data '2021005' does not match format '%Y%m' (match)\\n\""
      ]
     },
     "execution_count": 6,
     "metadata": {},
     "output_type": "execute_result"
    }
   ],
   "source": [
    "bot.chat(\n",
    "  \"¿Cuál fue el volumen de producción en ADT, para el producto DP, en el mes de junio del 2021, en la Planta Valdivia?\"\n",
    ")"
   ]
  }
 ],
 "metadata": {
  "kernelspec": {
   "display_name": "Python 3",
   "language": "python",
   "name": "python3"
  },
  "language_info": {
   "codemirror_mode": {
    "name": "ipython",
    "version": 3
   },
   "file_extension": ".py",
   "mimetype": "text/x-python",
   "name": "python",
   "nbconvert_exporter": "python",
   "pygments_lexer": "ipython3",
   "version": "3.10.10"
  }
 },
 "nbformat": 4,
 "nbformat_minor": 2
}
