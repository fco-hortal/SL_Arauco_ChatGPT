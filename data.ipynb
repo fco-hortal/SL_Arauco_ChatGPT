{
 "cells": [
  {
   "cell_type": "code",
   "execution_count": 2,
   "metadata": {},
   "outputs": [],
   "source": [
    "from qvd import qvd_reader\n",
    "import pandas as pd"
   ]
  },
  {
   "cell_type": "code",
   "execution_count": 3,
   "metadata": {},
   "outputs": [],
   "source": [
    "# Parseador de datos\n",
    "def convert_dtypes(df, exclude_columns=[]):\n",
    "    cols = df.columns\n",
    "    for c in cols:\n",
    "        if c not in exclude_columns:\n",
    "            try:\n",
    "                df[c] = pd.to_numeric(df[c])\n",
    "            except:\n",
    "                pass"
   ]
  },
  {
   "cell_type": "code",
   "execution_count": 4,
   "metadata": {},
   "outputs": [],
   "source": [
    "# Importamos archivos qdv\n",
    "pv = qvd_reader.read('data/Precio_venta.qvd')\n",
    "vp = qvd_reader.read('data/Volumen_Prod.qvd')\n",
    "\n",
    "# Convertimos los tipos de datos\n",
    "convert_dtypes(pv)\n",
    "convert_dtypes(vp)"
   ]
  },
  {
   "cell_type": "code",
   "execution_count": 5,
   "metadata": {},
   "outputs": [
    {
     "data": {
      "text/html": [
       "<div>\n",
       "<style scoped>\n",
       "    .dataframe tbody tr th:only-of-type {\n",
       "        vertical-align: middle;\n",
       "    }\n",
       "\n",
       "    .dataframe tbody tr th {\n",
       "        vertical-align: top;\n",
       "    }\n",
       "\n",
       "    .dataframe thead th {\n",
       "        text-align: right;\n",
       "    }\n",
       "</style>\n",
       "<table border=\"1\" class=\"dataframe\">\n",
       "  <thead>\n",
       "    <tr style=\"text-align: right;\">\n",
       "      <th></th>\n",
       "      <th>Planta</th>\n",
       "      <th>Pais</th>\n",
       "      <th>Cliente</th>\n",
       "      <th>Periodo</th>\n",
       "      <th>Producto</th>\n",
       "      <th>Ventas(ADT)</th>\n",
       "      <th>Ingresos</th>\n",
       "      <th>Devoluciones</th>\n",
       "    </tr>\n",
       "  </thead>\n",
       "  <tbody>\n",
       "    <tr>\n",
       "      <th>0</th>\n",
       "      <td>Nueva Aldea</td>\n",
       "      <td>China</td>\n",
       "      <td>ZHEJIANG WELBON PULP</td>\n",
       "      <td>2021005</td>\n",
       "      <td>BKP</td>\n",
       "      <td>508.820</td>\n",
       "      <td>-447634.40</td>\n",
       "      <td>4476.34</td>\n",
       "    </tr>\n",
       "    <tr>\n",
       "      <th>1</th>\n",
       "      <td>Arauco</td>\n",
       "      <td>China</td>\n",
       "      <td>ZHEJIANG WELBON PULP</td>\n",
       "      <td>2021006</td>\n",
       "      <td>BKP</td>\n",
       "      <td>3730.484</td>\n",
       "      <td>-3446141.26</td>\n",
       "      <td>34461.41</td>\n",
       "    </tr>\n",
       "    <tr>\n",
       "      <th>2</th>\n",
       "      <td>Nueva Aldea</td>\n",
       "      <td>China</td>\n",
       "      <td>ZHEJIANG WELBON PULP</td>\n",
       "      <td>2021006</td>\n",
       "      <td>BKP</td>\n",
       "      <td>4960.603</td>\n",
       "      <td>-4621408.67</td>\n",
       "      <td>46214.08</td>\n",
       "    </tr>\n",
       "  </tbody>\n",
       "</table>\n",
       "</div>"
      ],
      "text/plain": [
       "        Planta   Pais               Cliente  Periodo Producto  Ventas(ADT)  \\\n",
       "0  Nueva Aldea  China  ZHEJIANG WELBON PULP  2021005      BKP      508.820   \n",
       "1       Arauco  China  ZHEJIANG WELBON PULP  2021006      BKP     3730.484   \n",
       "2  Nueva Aldea  China  ZHEJIANG WELBON PULP  2021006      BKP     4960.603   \n",
       "\n",
       "     Ingresos  Devoluciones  \n",
       "0  -447634.40       4476.34  \n",
       "1 -3446141.26      34461.41  \n",
       "2 -4621408.67      46214.08  "
      ]
     },
     "execution_count": 5,
     "metadata": {},
     "output_type": "execute_result"
    }
   ],
   "source": [
    "pv"
   ]
  },
  {
   "cell_type": "code",
   "execution_count": 6,
   "metadata": {},
   "outputs": [
    {
     "data": {
      "text/html": [
       "<div>\n",
       "<style scoped>\n",
       "    .dataframe tbody tr th:only-of-type {\n",
       "        vertical-align: middle;\n",
       "    }\n",
       "\n",
       "    .dataframe tbody tr th {\n",
       "        vertical-align: top;\n",
       "    }\n",
       "\n",
       "    .dataframe thead th {\n",
       "        text-align: right;\n",
       "    }\n",
       "</style>\n",
       "<table border=\"1\" class=\"dataframe\">\n",
       "  <thead>\n",
       "    <tr style=\"text-align: right;\">\n",
       "      <th></th>\n",
       "      <th>Pais</th>\n",
       "      <th>Periodo</th>\n",
       "      <th>Planta</th>\n",
       "      <th>Producto</th>\n",
       "      <th>Volumen</th>\n",
       "    </tr>\n",
       "  </thead>\n",
       "  <tbody>\n",
       "    <tr>\n",
       "      <th>0</th>\n",
       "      <td>Chile</td>\n",
       "      <td>2021006</td>\n",
       "      <td>Valdivia</td>\n",
       "      <td>DP</td>\n",
       "      <td>39404.30</td>\n",
       "    </tr>\n",
       "    <tr>\n",
       "      <th>1</th>\n",
       "      <td>Chile</td>\n",
       "      <td>2021005</td>\n",
       "      <td>Valdivia</td>\n",
       "      <td>DP</td>\n",
       "      <td>41335.38</td>\n",
       "    </tr>\n",
       "  </tbody>\n",
       "</table>\n",
       "</div>"
      ],
      "text/plain": [
       "    Pais  Periodo    Planta Producto   Volumen\n",
       "0  Chile  2021006  Valdivia       DP  39404.30\n",
       "1  Chile  2021005  Valdivia       DP  41335.38"
      ]
     },
     "execution_count": 6,
     "metadata": {},
     "output_type": "execute_result"
    }
   ],
   "source": [
    "vp"
   ]
  }
 ],
 "metadata": {
  "kernelspec": {
   "display_name": "Python 3",
   "language": "python",
   "name": "python3"
  },
  "language_info": {
   "codemirror_mode": {
    "name": "ipython",
    "version": 3
   },
   "file_extension": ".py",
   "mimetype": "text/x-python",
   "name": "python",
   "nbconvert_exporter": "python",
   "pygments_lexer": "ipython3",
   "version": "3.10.10"
  }
 },
 "nbformat": 4,
 "nbformat_minor": 2
}
