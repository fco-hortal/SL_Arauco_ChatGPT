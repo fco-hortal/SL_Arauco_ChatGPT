{
 "cells": [
  {
   "cell_type": "code",
   "execution_count": 1,
   "metadata": {},
   "outputs": [],
   "source": [
    "from qvd import qvd_reader\n",
    "from pandasai import SmartDataframe\n",
    "from pandasai.llm import OpenAI"
   ]
  },
  {
   "cell_type": "code",
   "execution_count": 2,
   "metadata": {},
   "outputs": [],
   "source": [
    "from dotenv import load_dotenv\n",
    "import os\n",
    "# OpenAI Api Key\n",
    "load_dotenv()\n",
    "api_key = os.getenv(\"OPENAI_API_KEY\")"
   ]
  },
  {
   "cell_type": "code",
   "execution_count": 3,
   "metadata": {},
   "outputs": [
    {
     "data": {
      "text/html": [
       "<div>\n",
       "<style scoped>\n",
       "    .dataframe tbody tr th:only-of-type {\n",
       "        vertical-align: middle;\n",
       "    }\n",
       "\n",
       "    .dataframe tbody tr th {\n",
       "        vertical-align: top;\n",
       "    }\n",
       "\n",
       "    .dataframe thead th {\n",
       "        text-align: right;\n",
       "    }\n",
       "</style>\n",
       "<table border=\"1\" class=\"dataframe\">\n",
       "  <thead>\n",
       "    <tr style=\"text-align: right;\">\n",
       "      <th></th>\n",
       "      <th>Planta</th>\n",
       "      <th>Pais</th>\n",
       "      <th>Cliente</th>\n",
       "      <th>Periodo</th>\n",
       "      <th>Producto</th>\n",
       "      <th>Ventas(ADT)</th>\n",
       "      <th>Ingresos</th>\n",
       "      <th>Devoluciones</th>\n",
       "    </tr>\n",
       "  </thead>\n",
       "  <tbody>\n",
       "    <tr>\n",
       "      <th>0</th>\n",
       "      <td>Nueva Aldea</td>\n",
       "      <td>China</td>\n",
       "      <td>ZHEJIANG WELBON PULP</td>\n",
       "      <td>2021005</td>\n",
       "      <td>BKP</td>\n",
       "      <td>508.82</td>\n",
       "      <td>-447634.4</td>\n",
       "      <td>4476.34</td>\n",
       "    </tr>\n",
       "    <tr>\n",
       "      <th>1</th>\n",
       "      <td>Arauco</td>\n",
       "      <td>China</td>\n",
       "      <td>ZHEJIANG WELBON PULP</td>\n",
       "      <td>2021006</td>\n",
       "      <td>BKP</td>\n",
       "      <td>3730.4839999999995</td>\n",
       "      <td>-3446141.2600000002</td>\n",
       "      <td>34461.409999999996</td>\n",
       "    </tr>\n",
       "    <tr>\n",
       "      <th>2</th>\n",
       "      <td>Nueva Aldea</td>\n",
       "      <td>China</td>\n",
       "      <td>ZHEJIANG WELBON PULP</td>\n",
       "      <td>2021006</td>\n",
       "      <td>BKP</td>\n",
       "      <td>4960.603</td>\n",
       "      <td>-4621408.67</td>\n",
       "      <td>46214.079999999994</td>\n",
       "    </tr>\n",
       "  </tbody>\n",
       "</table>\n",
       "</div>"
      ],
      "text/plain": [
       "        Planta   Pais               Cliente  Periodo Producto  \\\n",
       "0  Nueva Aldea  China  ZHEJIANG WELBON PULP  2021005      BKP   \n",
       "1       Arauco  China  ZHEJIANG WELBON PULP  2021006      BKP   \n",
       "2  Nueva Aldea  China  ZHEJIANG WELBON PULP  2021006      BKP   \n",
       "\n",
       "          Ventas(ADT)             Ingresos        Devoluciones  \n",
       "0              508.82            -447634.4             4476.34  \n",
       "1  3730.4839999999995  -3446141.2600000002  34461.409999999996  \n",
       "2            4960.603          -4621408.67  46214.079999999994  "
      ]
     },
     "execution_count": 3,
     "metadata": {},
     "output_type": "execute_result"
    }
   ],
   "source": [
    "# Import the QVD file\n",
    "df = qvd_reader.read('Precio_venta.qvd')\n",
    "df"
   ]
  },
  {
   "cell_type": "code",
   "execution_count": 4,
   "metadata": {},
   "outputs": [],
   "source": [
    "# LLM de OpenAI\n",
    "llm = OpenAI(\n",
    "  api_token=api_key,\n",
    "  engine=\"gpt-3.5-turbo\",\n",
    "  temperature=0)\n",
    "# Pandas AI\n",
    "bot = SmartDataframe(df, config={\"llm\": llm})"
   ]
  },
  {
   "cell_type": "code",
   "execution_count": 5,
   "metadata": {},
   "outputs": [
    {
     "data": {
      "text/plain": [
       "'La planta con más ventas fue Nueva Aldea en el periodo 2021005.'"
      ]
     },
     "execution_count": 5,
     "metadata": {},
     "output_type": "execute_result"
    }
   ],
   "source": [
    "# 50.5s\n",
    "bot.chat(\"¿Cuál fue la planta con más ventas y en qué periodo?\")"
   ]
  },
  {
   "cell_type": "code",
   "execution_count": 6,
   "metadata": {},
   "outputs": [
    {
     "data": {
      "text/plain": [
       "\"Unfortunately, I was not able to answer your question, because of the following error:\\n\\nreduction operation 'argmax' not allowed for this dtype\\n\""
      ]
     },
     "execution_count": 6,
     "metadata": {},
     "output_type": "execute_result"
    }
   ],
   "source": [
    "# 2m 13.4s\n",
    "bot.chat(\"¿Cuál fue la planta con más ventas?\")"
   ]
  },
  {
   "cell_type": "code",
   "execution_count": 7,
   "metadata": {},
   "outputs": [
    {
     "name": "stderr",
     "output_type": "stream",
     "text": [
      "<string>:21: SettingWithCopyWarning: \n",
      "A value is trying to be set on a copy of a slice from a DataFrame.\n",
      "Try using .loc[row_indexer,col_indexer] = value instead\n",
      "\n",
      "See the caveats in the documentation: https://pandas.pydata.org/pandas-docs/stable/user_guide/indexing.html#returning-a-view-versus-a-copy\n",
      "<string>:21: SettingWithCopyWarning: \n",
      "A value is trying to be set on a copy of a slice from a DataFrame.\n",
      "Try using .loc[row_indexer,col_indexer] = value instead\n",
      "\n",
      "See the caveats in the documentation: https://pandas.pydata.org/pandas-docs/stable/user_guide/indexing.html#returning-a-view-versus-a-copy\n"
     ]
    },
    {
     "data": {
      "text/plain": [
       "'The maximum value of Ventas belongs to Nueva Aldea.'"
      ]
     },
     "execution_count": 7,
     "metadata": {},
     "output_type": "execute_result"
    }
   ],
   "source": [
    "# 1m 31.2s\n",
    "bot.chat(\"Valor máximo de Ventas a qué Planta pertenece\")"
   ]
  },
  {
   "cell_type": "code",
   "execution_count": 9,
   "metadata": {},
   "outputs": [
    {
     "data": {
      "image/png": "[encoded data removed]",
      "text/plain": [
       "<Figure size 640x480 with 1 Axes>"
      ]
     },
     "metadata": {},
     "output_type": "display_data"
    }
   ],
   "source": [
    "# 1m 28.8s\n",
    "bot.chat(\"Grafica ventas vs periodos\")"
   ]
  }
 ],
 "metadata": {
  "kernelspec": {
   "display_name": "Python 3",
   "language": "python",
   "name": "python3"
  },
  "language_info": {
   "codemirror_mode": {
    "name": "ipython",
    "version": 3
   },
   "file_extension": ".py",
   "mimetype": "text/x-python",
   "name": "python",
   "nbconvert_exporter": "python",
   "pygments_lexer": "ipython3",
   "version": "3.10.10"
  }
 },
 "nbformat": 4,
 "nbformat_minor": 2
}
